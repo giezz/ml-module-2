{
 "cells": [
  {
   "cell_type": "markdown",
   "id": "5377742c-64f6-4eb4-907c-84fc4148c5c1",
   "metadata": {},
   "source": [
    "# Лабораторная работа 6. Деревья решений"
   ]
  },
  {
   "cell_type": "code",
   "execution_count": 232,
   "id": "fbc48ecc",
   "metadata": {},
   "outputs": [],
   "source": [
    "import pandas as pd\n",
    "import numpy as np\n",
    "import matplotlib.pyplot as plt"
   ]
  },
  {
   "cell_type": "markdown",
   "id": "a01f6fec-caa4-453f-a6b0-9b31ef644183",
   "metadata": {},
   "source": [
    "### Задание 1. Реализовать критерии выбора разбиений.\n",
    "Необходимо реализовать два критерия выбора разбиений – прироста информации и индекс Джини – и протестировать их на примере датасета из лекции \"Состоится ли игра?\"."
   ]
  },
  {
   "cell_type": "markdown",
   "id": "67ba27df",
   "metadata": {},
   "source": [
    "**Задание 1.1.** Создайте датасет \"Состоится ли игра?\" (вручную или прочитайте из файла):"
   ]
  },
  {
   "cell_type": "code",
   "execution_count": 233,
   "id": "e4770062",
   "metadata": {},
   "outputs": [
    {
     "data": {
      "text/html": [
       "<div>\n",
       "<style scoped>\n",
       "    .dataframe tbody tr th:only-of-type {\n",
       "        vertical-align: middle;\n",
       "    }\n",
       "\n",
       "    .dataframe tbody tr th {\n",
       "        vertical-align: top;\n",
       "    }\n",
       "\n",
       "    .dataframe thead th {\n",
       "        text-align: right;\n",
       "    }\n",
       "</style>\n",
       "<table border=\"1\" class=\"dataframe\">\n",
       "  <thead>\n",
       "    <tr style=\"text-align: right;\">\n",
       "      <th></th>\n",
       "      <th>Наблюдение</th>\n",
       "      <th>Температура</th>\n",
       "      <th>Влажность</th>\n",
       "      <th>Ветер</th>\n",
       "      <th>Игра</th>\n",
       "    </tr>\n",
       "  </thead>\n",
       "  <tbody>\n",
       "    <tr>\n",
       "      <th>0</th>\n",
       "      <td>Солнце</td>\n",
       "      <td>Жарко</td>\n",
       "      <td>Высокая</td>\n",
       "      <td>Нет</td>\n",
       "      <td>Нет</td>\n",
       "    </tr>\n",
       "    <tr>\n",
       "      <th>1</th>\n",
       "      <td>Солнце</td>\n",
       "      <td>Жарко</td>\n",
       "      <td>Высокая</td>\n",
       "      <td>Есть</td>\n",
       "      <td>Нет</td>\n",
       "    </tr>\n",
       "    <tr>\n",
       "      <th>2</th>\n",
       "      <td>Облачность</td>\n",
       "      <td>Жарко</td>\n",
       "      <td>Высокая</td>\n",
       "      <td>Нет</td>\n",
       "      <td>Да</td>\n",
       "    </tr>\n",
       "    <tr>\n",
       "      <th>3</th>\n",
       "      <td>Дождь</td>\n",
       "      <td>Норма</td>\n",
       "      <td>Высокая</td>\n",
       "      <td>Нет</td>\n",
       "      <td>Да</td>\n",
       "    </tr>\n",
       "    <tr>\n",
       "      <th>4</th>\n",
       "      <td>Дождь</td>\n",
       "      <td>Холодно</td>\n",
       "      <td>Норма</td>\n",
       "      <td>Нет</td>\n",
       "      <td>Да</td>\n",
       "    </tr>\n",
       "    <tr>\n",
       "      <th>5</th>\n",
       "      <td>Дождь</td>\n",
       "      <td>Холодно</td>\n",
       "      <td>Норма</td>\n",
       "      <td>Есть</td>\n",
       "      <td>Нет</td>\n",
       "    </tr>\n",
       "    <tr>\n",
       "      <th>6</th>\n",
       "      <td>Облачность</td>\n",
       "      <td>Холодно</td>\n",
       "      <td>Норма</td>\n",
       "      <td>Есть</td>\n",
       "      <td>Да</td>\n",
       "    </tr>\n",
       "    <tr>\n",
       "      <th>7</th>\n",
       "      <td>Солнце</td>\n",
       "      <td>Норма</td>\n",
       "      <td>Высокая</td>\n",
       "      <td>Нет</td>\n",
       "      <td>Нет</td>\n",
       "    </tr>\n",
       "    <tr>\n",
       "      <th>8</th>\n",
       "      <td>Солнце</td>\n",
       "      <td>Холодно</td>\n",
       "      <td>Норма</td>\n",
       "      <td>Нет</td>\n",
       "      <td>Да</td>\n",
       "    </tr>\n",
       "    <tr>\n",
       "      <th>9</th>\n",
       "      <td>Дождь</td>\n",
       "      <td>Норма</td>\n",
       "      <td>Норма</td>\n",
       "      <td>Нет</td>\n",
       "      <td>Да</td>\n",
       "    </tr>\n",
       "    <tr>\n",
       "      <th>10</th>\n",
       "      <td>Солнце</td>\n",
       "      <td>Норма</td>\n",
       "      <td>Норма</td>\n",
       "      <td>Есть</td>\n",
       "      <td>Да</td>\n",
       "    </tr>\n",
       "    <tr>\n",
       "      <th>11</th>\n",
       "      <td>Облачность</td>\n",
       "      <td>Норма</td>\n",
       "      <td>Высокая</td>\n",
       "      <td>Есть</td>\n",
       "      <td>Да</td>\n",
       "    </tr>\n",
       "    <tr>\n",
       "      <th>12</th>\n",
       "      <td>Облачность</td>\n",
       "      <td>Жарко</td>\n",
       "      <td>Норма</td>\n",
       "      <td>Нет</td>\n",
       "      <td>Да</td>\n",
       "    </tr>\n",
       "    <tr>\n",
       "      <th>13</th>\n",
       "      <td>Дождь</td>\n",
       "      <td>Норма</td>\n",
       "      <td>Высокая</td>\n",
       "      <td>Есть</td>\n",
       "      <td>Нет</td>\n",
       "    </tr>\n",
       "  </tbody>\n",
       "</table>\n",
       "</div>"
      ],
      "text/plain": [
       "    Наблюдение Температура Влажность Ветер Игра\n",
       "0       Солнце       Жарко   Высокая   Нет  Нет\n",
       "1       Солнце       Жарко   Высокая  Есть  Нет\n",
       "2   Облачность       Жарко   Высокая   Нет   Да\n",
       "3        Дождь       Норма   Высокая   Нет   Да\n",
       "4        Дождь     Холодно     Норма   Нет   Да\n",
       "5        Дождь     Холодно     Норма  Есть  Нет\n",
       "6   Облачность     Холодно     Норма  Есть   Да\n",
       "7       Солнце       Норма   Высокая   Нет  Нет\n",
       "8       Солнце     Холодно     Норма   Нет   Да\n",
       "9        Дождь       Норма     Норма   Нет   Да\n",
       "10      Солнце       Норма     Норма  Есть   Да\n",
       "11  Облачность       Норма   Высокая  Есть   Да\n",
       "12  Облачность       Жарко     Норма   Нет   Да\n",
       "13       Дождь       Норма   Высокая  Есть  Нет"
      ]
     },
     "execution_count": 233,
     "metadata": {},
     "output_type": "execute_result"
    }
   ],
   "source": [
    "df = pd.read_csv('../data/is_there_a_game.csv')\n",
    "df"
   ]
  },
  {
   "cell_type": "markdown",
   "id": "c78bce25-18a4-4db2-b870-cbbdf35976a8",
   "metadata": {},
   "source": [
    "**Задание 1.2.** Напишите и протестируйте на примере датасета \"Состоится ли игра?\" функцию вычисления энтропии (`entropy`):"
   ]
  },
  {
   "cell_type": "code",
   "execution_count": 234,
   "id": "1936b994",
   "metadata": {},
   "outputs": [],
   "source": [
    "def entropy(target_col):\n",
    "    counts = target_col.value_counts()\n",
    "    probabilities = counts / len(target_col)\n",
    "    return -np.sum(probabilities * np.log2(probabilities))"
   ]
  },
  {
   "cell_type": "code",
   "execution_count": 235,
   "id": "67e09f15",
   "metadata": {},
   "outputs": [
    {
     "name": "stdout",
     "output_type": "stream",
     "text": [
      "Наблюдение : 1.5774062828523454\n",
      "Температура : 1.5566567074628228\n",
      "Влажность : 1.0\n",
      "Ветер : 0.9852281360342515\n",
      "Игра : 0.9402859586706311\n"
     ]
    }
   ],
   "source": [
    "for i in df.columns:\n",
    "    print(f'{i} : {entropy(df[i])}')"
   ]
  },
  {
   "cell_type": "markdown",
   "id": "e441e1c5",
   "metadata": {},
   "source": [
    "**Задание 1.3.** Напишите и протестируйте на примере датасета \"Состоится ли игра?\" функцию  прироста информации (`information_gain`) с использованием функции `entropy`:"
   ]
  },
  {
   "cell_type": "code",
   "execution_count": 236,
   "id": "bcffe3e3",
   "metadata": {},
   "outputs": [],
   "source": [
    "def information_gain(data, target_col, feature_col):\n",
    "    total_entropy = entropy(target_col)\n",
    "    \n",
    "    weighted_entropy = sum((len(subset) / len(target_col)) * entropy(subset) for _, subset in data.groupby(feature_col)[target_col.name])\n",
    "    \n",
    "    return total_entropy - weighted_entropy"
   ]
  },
  {
   "cell_type": "code",
   "execution_count": 237,
   "id": "871f411c",
   "metadata": {},
   "outputs": [
    {
     "name": "stdout",
     "output_type": "stream",
     "text": [
      "0.04812703040826949\n",
      "0.15183550136234159\n",
      "0.02922256565895487\n",
      "0.24674981977443933\n"
     ]
    }
   ],
   "source": [
    "print(information_gain(df, df['Игра'], 'Ветер'))\n",
    "print(information_gain(df, df['Игра'], 'Влажность'))\n",
    "print(information_gain(df, df['Игра'], 'Температура'))\n",
    "print(information_gain(df, df['Игра'], 'Наблюдение'))"
   ]
  },
  {
   "cell_type": "markdown",
   "id": "9a38f6f9",
   "metadata": {},
   "source": [
    "**Задание 1.4.** Напишите и протестируйте на примере датасета \"Состоится ли игра?\" функцию вычисления индекса Джини (`gini`):"
   ]
  },
  {
   "cell_type": "code",
   "execution_count": 238,
   "id": "f04be09c",
   "metadata": {},
   "outputs": [],
   "source": [
    "#  Ваш код здесь\n",
    "# ..."
   ]
  },
  {
   "cell_type": "markdown",
   "id": "2a9aef93",
   "metadata": {},
   "source": [
    "### Задание 2. Постройте дерево решений (факультативно)"
   ]
  },
  {
   "cell_type": "markdown",
   "id": "c9a6024e",
   "metadata": {},
   "source": [
    "**Задание 2.1.** Для датасета \"Состоится ли игра?\" постройте дерево решений на основе функции `information_gain`."
   ]
  },
  {
   "cell_type": "code",
   "execution_count": 239,
   "id": "d50688c0-e6f6-412e-aff8-9446ea9dc14e",
   "metadata": {},
   "outputs": [],
   "source": [
    "#  Ваш код здесь\n",
    "# ..."
   ]
  },
  {
   "cell_type": "markdown",
   "id": "d5534bf8-c3da-4571-9d7a-5141491a47f3",
   "metadata": {
    "tags": []
   },
   "source": [
    "**Задание 2.2.** Визуализируйте построенное дерево (в любом виде):"
   ]
  },
  {
   "cell_type": "code",
   "execution_count": 240,
   "id": "7fe448fa-5a30-4f96-a0db-9610b9a26ad2",
   "metadata": {},
   "outputs": [],
   "source": [
    "#  Ваш код здесь\n",
    "# ..."
   ]
  },
  {
   "cell_type": "markdown",
   "id": "c42510b4-7dd1-4b87-be88-7a10c8f54683",
   "metadata": {},
   "source": [
    "**Задание 2.3.** Сравните полученные результаты с результатами функции из `scikit-learn`:"
   ]
  },
  {
   "cell_type": "code",
   "execution_count": 241,
   "id": "33d52eb8-333d-45f6-af69-6e90c73a518a",
   "metadata": {},
   "outputs": [],
   "source": [
    "#  Ваш код здесь\n",
    "# ..."
   ]
  }
 ],
 "metadata": {
  "kernelspec": {
   "display_name": "base",
   "language": "python",
   "name": "python3"
  },
  "language_info": {
   "codemirror_mode": {
    "name": "ipython",
    "version": 3
   },
   "file_extension": ".py",
   "mimetype": "text/x-python",
   "name": "python",
   "nbconvert_exporter": "python",
   "pygments_lexer": "ipython3",
   "version": "3.12.7"
  }
 },
 "nbformat": 4,
 "nbformat_minor": 5
}
