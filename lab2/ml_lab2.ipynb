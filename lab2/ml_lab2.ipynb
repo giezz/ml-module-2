{
 "cells": [
  {
   "cell_type": "markdown",
   "metadata": {},
   "source": [
    "# Лабораторная работа 2. Линейная регрессия. Градиентный спуск"
   ]
  },
  {
   "cell_type": "markdown",
   "metadata": {},
   "source": [
    "Вспомним нормальное уравнение:\n",
    "\n",
    "$$\\overrightarrow{w}_{opt} = \\left(X^TX\\right)^{-1}X^T\\overrightarrow{y}.$$\n",
    "\n",
    "Здесь присутствует обращение матрицы $X^TX$ – довольно трудоёмкая операция при большом количестве признаков: сложность вычислений $O(d^3)$. При решении реальных задач такая трудоёмкость часто оказывается непозволительной, поэтому параметры модели (весовые коэффициенты) ищут итерационными методами, стоимость которых меньше. Один из них – *градиентный спуск* (gradient descent – ['greɪdɪənt dɪ'sent]).\n",
    "\n",
    "Напомним, что в градиентном спуске значения параметров на следующем шаге получаются из значений параметров на текущем шаге смещением в сторону антиградиента функционала ошибки: \n",
    "\n",
    "$$\\overrightarrow{w}^{(k+1)} = \\overrightarrow{w}^{(k)} - \\eta_k \\nabla Q(\\overrightarrow{w}^{(k)}),$$\n",
    "где $\\eta_k$ – шаг градиентного спуска.\n",
    "\n",
    "Формула градиента функционала ошибки выглядит следующим образом:\n",
    "\n",
    "$$\\nabla Q(\\overrightarrow{w}) = \\nabla_\\overrightarrow{w}\\left(\\frac{1}{l}\\|X\\overrightarrow{w}-\\overrightarrow{y}\\|^2\\right) = \\frac{2}{l}X^T(X\\overrightarrow{w} - \\overrightarrow{y}).$$\n",
    " \n",
    "Сложность вычислений в данном случае $O(dl)$."
   ]
  },
  {
   "metadata": {
    "ExecuteTime": {
     "end_time": "2024-12-26T15:52:20.008415Z",
     "start_time": "2024-12-26T15:52:20.006199Z"
    }
   },
   "cell_type": "code",
   "source": [
    "import numpy as np\n",
    "import matplotlib.pyplot as plt\n",
    "from sklearn.metrics import mean_squared_error"
   ],
   "outputs": [],
   "execution_count": 83
  },
  {
   "cell_type": "markdown",
   "metadata": {},
   "source": [
    "**Задание 1. Реализация градиентного спуска**  \n",
    "\n",
    "Напишите функцию `gradient_descent`, которая находит вектор весов на основе градиентного спуска.  \n",
    "\n",
    "В качестве критериев остановки можно использовать максимальное количество шагов и/или количество шагов, при котором отсутствуют значимые изменения весов.\n",
    "\n",
    "Проверьте работу функции на простом примере из лекций:\n",
    "\n",
    "$$x_1=2, x_2=3, x_3=5,$$\n",
    "\n",
    "$$y_1=1, y_2=3, y_3=4.$$\n",
    "\n",
    "Нарисуйте исходные данные и полученную линию регресии при помощи ``matplotlib``: для рисования точек используйте ``plt.scatter``, для рисования линии – ``plt.plot``.  \n",
    "\n",
    "Сравните полученные результаты с результатами, полученными на основе нормального уравнения."
   ]
  },
  {
   "metadata": {
    "ExecuteTime": {
     "end_time": "2024-12-26T15:52:20.019813Z",
     "start_time": "2024-12-26T15:52:20.016882Z"
    }
   },
   "cell_type": "code",
   "source": [
    "x = np.array([2, 3, 5])\n",
    "y = np.array([1, 3, 4])"
   ],
   "outputs": [],
   "execution_count": 84
  },
  {
   "metadata": {
    "ExecuteTime": {
     "end_time": "2024-12-26T15:52:20.030679Z",
     "start_time": "2024-12-26T15:52:20.021818Z"
    }
   },
   "cell_type": "code",
   "source": [
    "def batch_gradient_descent(X, y, batch_size, lr=0.01, max_iter=1000, eps=1e-6, verbose=False):\n",
    "    if batch_size > len(X) or batch_size <= 0:\n",
    "        raise ValueError('Incorrect batch size')\n",
    "    X = X.reshape(-1, 1)\n",
    "    X = np.concatenate([np.ones((X.shape[0], 1)), X], axis=1)\n",
    "    m = len(y)\n",
    "    theta = np.random.randn(X.shape[1])\n",
    "    iterations = 0\n",
    "\n",
    "    for _ in range(max_iter):\n",
    "        iterations += 1\n",
    "        indices = np.arange(m)\n",
    "        np.random.shuffle(indices)\n",
    "        X = X[indices]\n",
    "        y = y[indices]\n",
    "        X_batch = X[:batch_size]\n",
    "        y_batch = y[:batch_size]\n",
    "        predictions = X_batch.dot(theta)\n",
    "        gradient = (1 / len(y_batch)) * X_batch.T.dot(predictions - y_batch)\n",
    "        new_theta = theta - lr * gradient\n",
    "        if np.isnan(new_theta).any():\n",
    "            raise ValueError(f\"Ошибка на итерации: {iterations}. Попробуйте уменьшить значение learning rate\")\n",
    "        if np.linalg.norm(new_theta - theta) < eps:\n",
    "            return theta, iterations\n",
    "        theta = new_theta\n",
    "        if verbose:\n",
    "            print(f\"itaration: {iterations} theta: {theta}, mse: {mean_squared_error(y_batch, predictions)}\")\n",
    "\n",
    "    return theta, iterations\n",
    "\n",
    "\n",
    "def default_gradient_descent(X, y, lr=0.01, max_iter=1000, eps=1e-6, verbose=False):\n",
    "    return batch_gradient_descent(X, y, len(X), lr, max_iter, eps, verbose)\n",
    "\n",
    "\n",
    "def stochastic_gradient_descent(X, y, lr=0.01, max_iter=1000, eps=1e-6, verbose=False):\n",
    "    return batch_gradient_descent(X, y, 1, lr, max_iter, eps, verbose)"
   ],
   "outputs": [],
   "execution_count": 85
  },
  {
   "metadata": {
    "ExecuteTime": {
     "end_time": "2024-12-26T15:52:20.054817Z",
     "start_time": "2024-12-26T15:52:20.051994Z"
    }
   },
   "cell_type": "code",
   "source": [
    "def get_prediction(theta, x):\n",
    "    return theta[1] * x + theta[0]"
   ],
   "outputs": [],
   "execution_count": 86
  },
  {
   "metadata": {
    "ExecuteTime": {
     "end_time": "2024-12-26T16:26:13.493082Z",
     "start_time": "2024-12-26T16:26:13.464083Z"
    }
   },
   "cell_type": "code",
   "source": [
    "X = np.c_[np.ones(x.shape[0]), x]\n",
    "theta_normal = np.linalg.inv(X.T.dot(X)).dot(X.T).dot(y)\n",
    "print(\"Веса, найденные нормальным уравнением:\", theta_normal)\n",
    "theta, iterations = default_gradient_descent(x, y, lr=0.01, max_iter=100, eps=1e-6, verbose=True)\n",
    "print(\"Веса, найденные градиентным спуском:\", theta)"
   ],
   "outputs": [
    {
     "name": "stdout",
     "output_type": "stream",
     "text": [
      "Веса, найденные нормальным уравнением: [-0.42857143  0.92857143]\n",
      "itaration: 1 theta: [-1.2257012 -0.5819017], mse: 50.47004049655357\n",
      "itaration: 2 theta: [-1.1673808  -0.36400411], mse: 37.776024009069964\n",
      "itaration: 3 theta: [-1.11690686 -0.1756509 ], mse: 28.289423928766883\n",
      "itaration: 4 theta: [-1.07321609 -0.01283822], mse: 21.19981506123005\n",
      "itaration: 5 theta: [-1.03538932  0.12789515], mse: 15.901544193665579\n",
      "itaration: 6 theta: [-1.00263194  0.24954141], mse: 11.941989891416524\n",
      "itaration: 7 theta: [-0.974257    0.35468723], mse: 8.982895609663194\n",
      "itaration: 8 theta: [-0.94967067  0.44556875], mse: 6.771472855951998\n",
      "itaration: 9 theta: [-0.92835959  0.52411906], mse: 5.118805782533975\n",
      "itaration: 10 theta: [-0.90987996  0.5920093 ], mse: 3.88371233959546\n",
      "itaration: 11 theta: [-0.89384814  0.65068412], mse: 2.9606832676991064\n",
      "itaration: 12 theta: [-0.87993246  0.7013924 ], mse: 2.270868572504367\n",
      "itaration: 13 theta: [-0.86784621  0.74521378], mse: 1.7553414674715186\n",
      "itaration: 14 theta: [-0.85734154  0.78308158], mse: 1.3700643315211012\n",
      "itaration: 15 theta: [-0.84820418  0.81580263], mse: 1.0821266296493615\n",
      "itaration: 16 theta: [-0.84024889  0.84407443], mse: 0.8669334067194591\n",
      "itaration: 17 theta: [-0.83331555  0.86849997], mse: 0.7061041709367811\n",
      "itaration: 18 theta: [-0.82726573  0.88960049], mse: 0.5859026712271795\n",
      "itaration: 19 theta: [-0.82197976  0.90782662], mse: 0.49606342634520667\n",
      "itaration: 20 theta: [-0.81735418  0.92356791], mse: 0.4289147575481298\n",
      "itaration: 21 theta: [-0.81329957  0.93716111], mse: 0.378723406603721\n",
      "itaration: 22 theta: [-0.80973861  0.94889736], mse: 0.3412047506603105\n",
      "itaration: 23 theta: [-0.80660447  0.95902831], mse: 0.31315677224235344\n",
      "itaration: 24 theta: [-0.80383937  0.96777154], mse: 0.2921865148817771\n",
      "itaration: 25 theta: [-0.80139336  0.97531512], mse: 0.2765056558286474\n",
      "itaration: 26 theta: [-0.79922326  0.98182165], mse: 0.26477773187112985\n",
      "itaration: 27 theta: [-0.79729175  0.98743169], mse: 0.2560039669558548\n",
      "itaration: 28 theta: [-0.79556656  0.99226673], mse: 0.24943794800376082\n",
      "itaration: 29 theta: [-0.79401978  0.99643183], mse: 0.24452185978208849\n",
      "itaration: 30 theta: [-0.79262731  1.00001779], mse: 0.2408388314566583\n",
      "itaration: 31 theta: [-0.7913683   1.00310311], mse: 0.23807732384943184\n",
      "itaration: 32 theta: [-0.79022472  1.00575566], mse: 0.23600451504890593\n",
      "itaration: 33 theta: [-0.78918099  1.0080341 ], mse: 0.23444641073900807\n",
      "itaration: 34 theta: [-0.78822365  1.00998915], mse: 0.2332729800965397\n",
      "itaration: 35 theta: [-0.78734106  1.01166465], mse: 0.23238704743530428\n",
      "itaration: 36 theta: [-0.78652313  1.01309849], mse: 0.2317159906238362\n",
      "itaration: 37 theta: [-0.78576119  1.01432346], mse: 0.23120553708285585\n",
      "itaration: 38 theta: [-0.78504769  1.01536786], mse: 0.23081512736218804\n",
      "itaration: 39 theta: [-0.78437614  1.01625618], mse: 0.23051445021327346\n",
      "itaration: 40 theta: [-0.78374092  1.01700961], mse: 0.23028085315280902\n",
      "itaration: 41 theta: [-0.78313716  1.01764642], mse: 0.2300974073051755\n",
      "itaration: 42 theta: [-0.78256067  1.01818245], mse: 0.2299514612055418\n",
      "itaration: 43 theta: [-0.78200781  1.01863136], mse: 0.2298335600168351\n",
      "itaration: 44 theta: [-0.78147545  1.01900498], mse: 0.22973663783062595\n",
      "itaration: 45 theta: [-0.78096086  1.01931353], mse: 0.2296554140511864\n",
      "itaration: 46 theta: [-0.7804617   1.01956585], mse: 0.22958594229656581\n",
      "itaration: 47 theta: [-0.77997595  1.01976956], mse: 0.2295252732798603\n",
      "itaration: 48 theta: [-0.77950184  1.01993128], mse: 0.22947120287104164\n",
      "itaration: 49 theta: [-0.77903786  1.02005671], mse: 0.22942208381657295\n",
      "itaration: 50 theta: [-0.77858271  1.02015079], mse: 0.2293766850322653\n",
      "itaration: 51 theta: [-0.77813524  1.02021778], mse: 0.22933408644892284\n",
      "itaration: 52 theta: [-0.77769448  1.02026137], mse: 0.22929360042758126\n",
      "itaration: 53 theta: [-0.77725958  1.02028475], mse: 0.22925471303093672\n",
      "itaration: 54 theta: [-0.77682981  1.02029067], mse: 0.22921704013385522\n",
      "itaration: 55 theta: [-0.77640453  1.02028151], mse: 0.22918029462353953\n",
      "itaration: 56 theta: [-0.77598321  1.02025933], mse: 0.22914426188730752\n",
      "itaration: 57 theta: [-0.77556535  1.02022593], mse: 0.2291087814939248\n",
      "itaration: 58 theta: [-0.77515056  1.02018282], mse: 0.22907373350355834\n",
      "itaration: 59 theta: [-0.77473848  1.02013135], mse: 0.22903902823682634\n",
      "itaration: 60 theta: [-0.77432881  1.02007266], mse: 0.22900459862892417\n",
      "itaration: 61 theta: [-0.77392128  1.02000775], mse: 0.22897039451565052\n",
      "itaration: 62 theta: [-0.77351566  1.01993748], mse: 0.22893637836319555\n",
      "itaration: 63 theta: [-0.77311175  1.01986259], mse: 0.22890252207689502\n",
      "itaration: 64 theta: [-0.77270939  1.01978372], mse: 0.22886880461632075\n",
      "itaration: 65 theta: [-0.77230842  1.01970143], mse: 0.2288352102129744\n",
      "itaration: 66 theta: [-0.77190871  1.01961619], mse: 0.22880172703831692\n",
      "itaration: 67 theta: [-0.77151016  1.01952843], mse: 0.22876834620835307\n",
      "itaration: 68 theta: [-0.77111268  1.0194385 ], mse: 0.22873506103972852\n",
      "itaration: 69 theta: [-0.77071617  1.01934671], mse: 0.22870186649378865\n",
      "itaration: 70 theta: [-0.77032056  1.01925334], mse: 0.22866875876111048\n",
      "itaration: 71 theta: [-0.7699258  1.0191586], mse: 0.22863573495101097\n",
      "itaration: 72 theta: [-0.76953183  1.0190627 ], mse: 0.22860279285950616\n",
      "itaration: 73 theta: [-0.7691386   1.01896582], mse: 0.2285699307959023\n",
      "itaration: 74 theta: [-0.76874608  1.0188681 ], mse: 0.22853714745320172\n",
      "itaration: 75 theta: [-0.76835422  1.01876968], mse: 0.22850444181125354\n",
      "itaration: 76 theta: [-0.767963    1.01867066], mse: 0.2284718130643747\n",
      "itaration: 77 theta: [-0.76757239  1.01857114], mse: 0.2284392605672579\n",
      "itaration: 78 theta: [-0.76718237  1.01847121], mse: 0.22840678379455123\n",
      "itaration: 79 theta: [-0.76679292  1.01837094], mse: 0.2283743823106449\n",
      "itaration: 80 theta: [-0.76640403  1.01827038], mse: 0.22834205574709573\n",
      "itaration: 81 theta: [-0.76601566  1.0181696 ], mse: 0.2283098037857539\n",
      "itaration: 82 theta: [-0.76562783  1.01806864], mse: 0.2282776261461548\n",
      "itaration: 83 theta: [-0.7652405   1.01796754], mse: 0.22824552257609265\n",
      "itaration: 84 theta: [-0.76485368  1.01786634], mse: 0.2282134928445804\n",
      "itaration: 85 theta: [-0.76446736  1.01776506], mse: 0.22818153673658406\n",
      "itaration: 86 theta: [-0.76408152  1.01766373], mse: 0.22814965404909052\n",
      "itaration: 87 theta: [-0.76369616  1.01756237], mse: 0.22811784458816586\n",
      "itaration: 88 theta: [-0.76331128  1.01746101], mse: 0.22808610816676014\n",
      "itaration: 89 theta: [-0.76292687  1.01735966], mse: 0.22805444460306232\n",
      "itaration: 90 theta: [-0.76254292  1.01725833], mse: 0.22802285371927444\n",
      "itaration: 91 theta: [-0.76215944  1.01715704], mse: 0.22799133534069346\n",
      "itaration: 92 theta: [-0.76177641  1.0170558 ], mse: 0.22795988929502495\n",
      "itaration: 93 theta: [-0.76139384  1.01695461], mse: 0.2279285154118714\n",
      "itaration: 94 theta: [-0.76101172  1.01685349], mse: 0.22789721352234638\n",
      "itaration: 95 theta: [-0.76063005  1.01675244], mse: 0.22786598345879017\n",
      "itaration: 96 theta: [-0.76024883  1.01665146], mse: 0.22783482505455388\n",
      "itaration: 97 theta: [-0.75986806  1.01655057], mse: 0.22780373814383795\n",
      "itaration: 98 theta: [-0.75948773  1.01644977], mse: 0.22777272256157502\n",
      "itaration: 99 theta: [-0.75910785  1.01634905], mse: 0.2277417781433361\n",
      "itaration: 100 theta: [-0.7587284   1.01624844], mse: 0.22771090472526598\n",
      "Веса, найденные градиентным спуском: [-0.7587284   1.01624844]\n"
     ]
    }
   ],
   "execution_count": 93
  },
  {
   "metadata": {
    "ExecuteTime": {
     "end_time": "2024-12-26T16:26:16.974758Z",
     "start_time": "2024-12-26T16:26:16.878757Z"
    }
   },
   "cell_type": "code",
   "source": [
    "plt.scatter(x, y, color='blue', label='Данные')\n",
    "y_pred_gd = get_prediction(theta, x)\n",
    "plt.plot(x, y_pred_gd, color='red', label='Градиентный спуск')\n",
    "y_pred_ne = X.dot(theta_normal)\n",
    "plt.plot(x, y_pred_ne, color='green', linestyle='--', label='Нормальное уравнение')\n",
    "plt.xlabel('x')\n",
    "plt.ylabel('y')\n",
    "plt.legend()\n",
    "plt.title('Сравнение методов')\n",
    "plt.show()\n"
   ],
   "outputs": [
    {
     "data": {
      "text/plain": [
       "<Figure size 640x480 with 1 Axes>"
      ],
      "image/png": "[encoded data removed]"
     },
     "metadata": {},
     "output_type": "display_data"
    }
   ],
   "execution_count": 94
  },
  {
   "cell_type": "markdown",
   "metadata": {},
   "source": [
    "**Задание 2. Исследование скорости спуска**  \n",
    "\n",
    "Протестируйте функцию `gradient_descent` на наборе данных `ml_lab1_train.txt`/`ml_lab1_test.txt` для разных значений скорости спуска $\\eta_k$, например, $\\eta_k = \\{0.5, 1.0, 2.0\\}$.  \n",
    "\n",
    "Оцените количество шагов для получения решения в каждом случае."
   ]
  },
  {
   "cell_type": "code",
   "metadata": {
    "ExecuteTime": {
     "end_time": "2024-12-26T15:52:20.189743Z",
     "start_time": "2024-12-26T15:52:20.186301Z"
    }
   },
   "source": [
    "data_train = np.loadtxt('../data/ml_lab1_train.txt', delimiter=',')\n",
    "data_test = np.loadtxt('../data/ml_lab1_test.txt', delimiter=',')\n",
    "X_train = data_train[:, 0]\n",
    "print(len(X_train))\n",
    "y_train = data_train[:, 1]\n",
    "X_test = data_test[:, 0]\n",
    "y_test = data_test[:, 1]"
   ],
   "outputs": [
    {
     "name": "stdout",
     "output_type": "stream",
     "text": [
      "21\n"
     ]
    }
   ],
   "execution_count": 89
  },
  {
   "metadata": {
    "ExecuteTime": {
     "end_time": "2024-12-26T15:52:20.216250Z",
     "start_time": "2024-12-26T15:52:20.197251Z"
    }
   },
   "cell_type": "code",
   "source": [
    "\n",
    "print(f\"gradient type: default\")\n",
    "for i in [0.5, 1.0, 2.0]:\n",
    "    print(f\"learning rate: {i}\")\n",
    "    theta, iterations = default_gradient_descent(X_train, y_train, lr=i)\n",
    "    print(f\"TRAIN: theta = {theta} iterations = {iterations}\")\n",
    "    y_train_pred = get_prediction(theta, X_train)\n",
    "    y_test_pred = get_prediction(theta, X_test)\n",
    "    mse_train = mean_squared_error(y_train, y_train_pred)\n",
    "    mse_test = mean_squared_error(y_test, y_test_pred)\n",
    "    print(f\"MSE TRAIN: {mse_train}, MSE TEST: {mse_test}\")\n"
   ],
   "outputs": [
    {
     "name": "stdout",
     "output_type": "stream",
     "text": [
      "gradient type: default\n",
      "learning rate: 0.5\n",
      "TRAIN: theta = [4.43322375 2.27915039] iterations = 196\n",
      "MSE TRAIN: 0.2968966332965016, MSE TEST: 0.4351195340741197\n",
      "learning rate: 1.0\n",
      "TRAIN: theta = [4.43323417 2.27912725] iterations = 87\n",
      "MSE TRAIN: 0.2968966332695971, MSE TEST: 0.43512050452702344\n",
      "learning rate: 2.0\n",
      "TRAIN: theta = [-2.12360948e+134 -9.56419513e+133] iterations = 1000\n",
      "MSE TRAIN: 6.401670030024759e+268, MSE TEST: 6.445272554940472e+268\n"
     ]
    }
   ],
   "execution_count": 90
  },
  {
   "cell_type": "markdown",
   "metadata": {},
   "source": [
    "**Задание 3. Стохастический градиентный спуск**  \n",
    "\n",
    "Стохастический градиентный спуск отличается от обычного заменой градиента на его оценку по одному или нескольким объектам. В этом случае сложность становится $O(kd)$, где $k$ – количество объектов, по которым оценивается градиент, $k<<l$. Это отчасти объясняет популярность стохастических методов оптимизации.  \n",
    "\n",
    "Реализуйте функцию `stochastic_gradient_descent`, которая находит вектор весов на основе стохастического градиентного спуска (вычисление градиента на одном случайном примере).  \n",
    "\n",
    "На наборе данных `ml_lab1_train.txt`/`ml_lab1_test.txt` оцените количество шагов для получения решения при разных значениях скорости спуска $\\eta_k$, например, $\\eta_k = \\{0.5, 1.0, 2.0\\}$."
   ]
  },
  {
   "metadata": {
    "ExecuteTime": {
     "end_time": "2024-12-26T16:28:18.826182Z",
     "start_time": "2024-12-26T16:28:17.915705Z"
    }
   },
   "cell_type": "code",
   "source": [
    "print(f\"gradient type: batch\")\n",
    "for i in [0.05, 0.1, 0.5]:\n",
    "    print(f\"learning rate: {i}\")\n",
    "    theta, iterations = stochastic_gradient_descent(X_train, y_train, lr=i, max_iter=100_000)\n",
    "    print(f\"TRAIN: theta = {theta} iterations = {iterations}\")\n",
    "    y_train_pred = get_prediction(theta, X_train)\n",
    "    y_test_pred = get_prediction(theta, X_test)\n",
    "    mse_train = mean_squared_error(y_train, y_train_pred)\n",
    "    mse_test = mean_squared_error(y_test, y_test_pred)\n",
    "    print(f\"MSE TRAIN: {mse_train}, MSE TEST: {mse_test}\")"
   ],
   "outputs": [
    {
     "name": "stdout",
     "output_type": "stream",
     "text": [
      "gradient type: batch\n",
      "learning rate: 0.05\n",
      "TRAIN: theta = [4.46229197 2.25466742] iterations = 44784\n",
      "MSE TRAIN: 0.2973471496932651, MSE TEST: 0.44368138480465874\n",
      "learning rate: 0.1\n",
      "TRAIN: theta = [4.59586932 2.33981682] iterations = 44632\n",
      "MSE TRAIN: 0.3323185526727756, MSE TEST: 0.5424712018892488\n",
      "learning rate: 0.5\n",
      "TRAIN: theta = [4.56916433 2.48266152] iterations = 894\n",
      "MSE TRAIN: 0.3496030182451384, MSE TEST: 0.570282103312617\n"
     ]
    }
   ],
   "execution_count": 96
  },
  {
   "cell_type": "markdown",
   "metadata": {},
   "source": [
    "**Задание 4. Градиентный спуск по мини-батчам**  \n",
    "\n",
    "Реализуйте функцию `mini_batch_gradient_descent`, которая находит вектор весов на основе градиентного спуска по мини-батчам (вычисление градиента на подмножестве случайно выбранных примеров). Размер мини-батча должен быть параметром функции.  \n",
    "\n",
    "На наборе данных `ml_lab1_train.txt`/`ml_lab1_test.txt` оцените количество шагов для получения решения при разных значениях скорости спуска $\\eta_k$, например, $\\eta_k = \\{0.5, 1.0, 2.0\\}$."
   ]
  },
  {
   "cell_type": "code",
   "metadata": {
    "ExecuteTime": {
     "end_time": "2024-12-26T15:52:20.279529Z",
     "start_time": "2024-12-26T15:52:20.258344Z"
    }
   },
   "source": [
    "print(f\"gradient type: batch\")\n",
    "for i in [0.5, 1.0, 2.0]:\n",
    "    print(f\"learning rate: {i}\")\n",
    "    theta, iterations = batch_gradient_descent(X_train, y_train, 3, lr=i, max_iter=1000, eps=1e-2)\n",
    "    print(f\"TRAIN: theta = {theta} iterations = {iterations}\")\n",
    "    y_train_pred = get_prediction(theta, X_train)\n",
    "    y_test_pred = get_prediction(theta, X_test)\n",
    "    mse_train = mean_squared_error(y_train, y_train_pred)\n",
    "    mse_test = mean_squared_error(y_test, y_test_pred)\n",
    "    print(f\"MSE TRAIN: {mse_train}, MSE TEST: {mse_test}\")"
   ],
   "outputs": [
    {
     "name": "stdout",
     "output_type": "stream",
     "text": [
      "gradient type: batch\n",
      "learning rate: 0.5\n",
      "TRAIN: theta = [4.49499402 2.21282975] iterations = 320\n",
      "MSE TRAIN: 0.29871889047734773, MSE TEST: 0.4524088902480206\n",
      "learning rate: 1.0\n",
      "TRAIN: theta = [4.40001918 2.30512887] iterations = 245\n",
      "MSE TRAIN: 0.2975063043091733, MSE TEST: 0.4262615808767562\n",
      "learning rate: 2.0\n",
      "TRAIN: theta = [-1.31730563e+107 -1.23640032e+107] iterations = 1000\n",
      "MSE TRAIN: 3.484644053971518e+214, MSE TEST: 3.557511407960915e+214\n"
     ]
    }
   ],
   "execution_count": 92
  }
 ],
 "metadata": {
  "kernelspec": {
   "display_name": "Python 3 (ipykernel)",
   "language": "python",
   "name": "python3"
  },
  "language_info": {
   "codemirror_mode": {
    "name": "ipython",
    "version": 3
   },
   "file_extension": ".py",
   "mimetype": "text/x-python",
   "name": "python",
   "nbconvert_exporter": "python",
   "pygments_lexer": "ipython3",
   "version": "3.9.12"
  }
 },
 "nbformat": 4,
 "nbformat_minor": 4
}
