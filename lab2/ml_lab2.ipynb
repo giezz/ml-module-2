{
 "cells": [
  {
   "cell_type": "markdown",
   "metadata": {},
   "source": [
    "# Лабораторная работа 2. Линейная регрессия. Градиентный спуск"
   ]
  },
  {
   "cell_type": "markdown",
   "metadata": {},
   "source": [
    "Вспомним нормальное уравнение:\n",
    "\n",
    "$$\\overrightarrow{w}_{opt} = \\left(X^TX\\right)^{-1}X^T\\overrightarrow{y}.$$\n",
    "\n",
    "Здесь присутствует обращение матрицы $X^TX$ – довольно трудоёмкая операция при большом количестве признаков: сложность вычислений $O(d^3)$. При решении реальных задач такая трудоёмкость часто оказывается непозволительной, поэтому параметры модели (весовые коэффициенты) ищут итерационными методами, стоимость которых меньше. Один из них – *градиентный спуск* (gradient descent – ['greɪdɪənt dɪ'sent]).\n",
    "\n",
    "Напомним, что в градиентном спуске значения параметров на следующем шаге получаются из значений параметров на текущем шаге смещением в сторону антиградиента функционала ошибки: \n",
    "\n",
    "$$\\overrightarrow{w}^{(k+1)} = \\overrightarrow{w}^{(k)} - \\eta_k \\nabla Q(\\overrightarrow{w}^{(k)}),$$\n",
    "где $\\eta_k$ – шаг градиентного спуска.\n",
    "\n",
    "Формула градиента функционала ошибки выглядит следующим образом:\n",
    "\n",
    "$$\\nabla Q(\\overrightarrow{w}) = \\nabla_\\overrightarrow{w}\\left(\\frac{1}{l}\\|X\\overrightarrow{w}-\\overrightarrow{y}\\|^2\\right) = \\frac{2}{l}X^T(X\\overrightarrow{w} - \\overrightarrow{y}).$$\n",
    " \n",
    "Сложность вычислений в данном случае $O(dl)$."
   ]
  },
  {
   "metadata": {
    "ExecuteTime": {
     "end_time": "2024-12-12T16:05:33.776187Z",
     "start_time": "2024-12-12T16:05:33.773187Z"
    }
   },
   "cell_type": "code",
   "source": [
    "import numpy as np\n",
    "import matplotlib.pyplot as plt"
   ],
   "outputs": [],
   "execution_count": 378
  },
  {
   "cell_type": "markdown",
   "metadata": {},
   "source": [
    "**Задание 1. Реализация градиентного спуска**  \n",
    "\n",
    "Напишите функцию `gradient_descent`, которая находит вектор весов на основе градиентного спуска.  \n",
    "\n",
    "В качестве критериев остановки можно использовать максимальное количество шагов и/или количество шагов, при котором отсутствуют значимые изменения весов.\n",
    "\n",
    "Проверьте работу функции на простом примере из лекций:\n",
    "\n",
    "$$x_1=2, x_2=3, x_3=5,$$\n",
    "\n",
    "$$y_1=1, y_2=3, y_3=4.$$\n",
    "\n",
    "Нарисуйте исходные данные и полученную линию регресии при помощи ``matplotlib``: для рисования точек используйте ``plt.scatter``, для рисования линии – ``plt.plot``.  \n",
    "\n",
    "Сравните полученные результаты с результатами, полученными на основе нормального уравнения."
   ]
  },
  {
   "metadata": {
    "ExecuteTime": {
     "end_time": "2024-12-12T16:05:33.797754Z",
     "start_time": "2024-12-12T16:05:33.795564Z"
    }
   },
   "cell_type": "code",
   "source": [
    "x = np.array([2, 3, 5])\n",
    "y = np.array([1, 3, 4])"
   ],
   "outputs": [],
   "execution_count": 379
  },
  {
   "cell_type": "code",
   "metadata": {
    "ExecuteTime": {
     "end_time": "2024-12-12T16:05:33.806969Z",
     "start_time": "2024-12-12T16:05:33.803759Z"
    }
   },
   "source": [
    "def gradient_descent(X, y, lr=0.01, max_iter=1000, eps=1e-6):\n",
    "    X = X.reshape(-1, 1)\n",
    "    X = np.concatenate([np.ones((X.shape[0], 1)), X], axis=1)\n",
    "    m = len(y)\n",
    "    theta = np.array([np.random.choice(X[:, 1]), np.random.choice(X[:, 1])])\n",
    "    # print(theta)\n",
    "    # loss_history = []\n",
    "    iterations = 0\n",
    "    for _ in range(max_iter):\n",
    "        iterations += 1\n",
    "        predictions = X.dot(theta)\n",
    "        gradient = (1 / m) * X.T.dot(predictions - y)\n",
    "        new_theta = theta - lr * gradient\n",
    "        # loss = (1 / (2 * m)) * np.sum((predictions - y) ** 2)\n",
    "        # loss_history.append(loss)\n",
    "        if np.linalg.norm(new_theta - theta) < eps:\n",
    "            break\n",
    "        theta = new_theta\n",
    "    \n",
    "    return theta, iterations\n"
   ],
   "outputs": [],
   "execution_count": 380
  },
  {
   "metadata": {
    "ExecuteTime": {
     "end_time": "2024-12-12T16:05:33.817062Z",
     "start_time": "2024-12-12T16:05:33.813794Z"
    }
   },
   "cell_type": "code",
   "source": [
    "def batch_gradient_descent(X, y, lr=0.01, max_iter=1000, eps=1e-6, batch_size=32):\n",
    "    X = X.reshape(-1, 1)\n",
    "    X = np.concatenate([np.ones((X.shape[0], 1)), X], axis=1)\n",
    "    m = len(y)\n",
    "    theta = np.array([np.random.choice(X[:, 1]), np.random.choice(X[:, 1])])\n",
    "\n",
    "    iterations = 0\n",
    "    for _ in range(max_iter):\n",
    "        indices = np.random.permutation(m)\n",
    "        X_shuffled = X[indices]\n",
    "        y_shuffled = y[indices]\n",
    "\n",
    "        for i in range(0, m, batch_size):\n",
    "            iterations += 1\n",
    "            X_batch = X_shuffled[i:i + batch_size]\n",
    "            y_batch = y_shuffled[i:i + batch_size]\n",
    "\n",
    "            predictions = X_batch.dot(theta)\n",
    "            gradient = (1 / batch_size) * X_batch.T.dot(predictions - y_batch)\n",
    "            new_theta = theta - lr * gradient\n",
    "            if np.linalg.norm(new_theta - theta) < eps:\n",
    "                return new_theta, iterations\n",
    "\n",
    "            theta = new_theta\n",
    "\n",
    "    return theta, iterations"
   ],
   "outputs": [],
   "execution_count": 381
  },
  {
   "metadata": {
    "ExecuteTime": {
     "end_time": "2024-12-12T16:05:33.827194Z",
     "start_time": "2024-12-12T16:05:33.824189Z"
    }
   },
   "cell_type": "code",
   "source": [
    "def get_gradient(X, y, type='default', lr=0.01, max_iter=1000, eps=1e-6, batch_size=100):\n",
    "    if type == 'default':\n",
    "        return batch_gradient_descent(X, y, lr, max_iter, eps, len(X))\n",
    "    elif type == 'batch':\n",
    "        return batch_gradient_descent(X, y, lr, max_iter, eps, batch_size)\n",
    "    elif type == 'stochastic':\n",
    "        return batch_gradient_descent(X, y, lr, max_iter, eps, 1)\n",
    "    else:\n",
    "        raise ValueError('Invalid type')"
   ],
   "outputs": [],
   "execution_count": 382
  },
  {
   "metadata": {
    "ExecuteTime": {
     "end_time": "2024-12-12T16:05:33.836042Z",
     "start_time": "2024-12-12T16:05:33.833735Z"
    }
   },
   "cell_type": "code",
   "source": [
    "def get_prediction(theta, x):\n",
    "    return theta[1] * x + theta[0]"
   ],
   "outputs": [],
   "execution_count": 383
  },
  {
   "metadata": {
    "ExecuteTime": {
     "end_time": "2024-12-12T16:05:33.853946Z",
     "start_time": "2024-12-12T16:05:33.842023Z"
    }
   },
   "cell_type": "code",
   "source": [
    "theta, iterations = get_gradient(x, y)\n",
    "print(\"Веса, найденные градиентным спуском:\", theta)"
   ],
   "outputs": [
    {
     "name": "stdout",
     "output_type": "stream",
     "text": [
      "Веса, найденные градиентным спуском: [0.42408389 0.7021365 ]\n"
     ]
    }
   ],
   "execution_count": 384
  },
  {
   "metadata": {
    "ExecuteTime": {
     "end_time": "2024-12-12T16:05:33.863821Z",
     "start_time": "2024-12-12T16:05:33.860825Z"
    }
   },
   "cell_type": "code",
   "source": [
    "X = np.c_[np.ones(x.shape[0]), x]\n",
    "theta_normal = np.linalg.inv(X.T.dot(X)).dot(X.T).dot(y)\n",
    "print(\"Веса, найденные нормальным уравнением:\", theta_normal)"
   ],
   "outputs": [
    {
     "name": "stdout",
     "output_type": "stream",
     "text": [
      "Веса, найденные нормальным уравнением: [-0.42857143  0.92857143]\n"
     ]
    }
   ],
   "execution_count": 385
  },
  {
   "metadata": {
    "ExecuteTime": {
     "end_time": "2024-12-12T16:05:33.958836Z",
     "start_time": "2024-12-12T16:05:33.871326Z"
    }
   },
   "cell_type": "code",
   "source": [
    "plt.scatter(x, y, color='blue', label='Данные')\n",
    "y_pred_gd = X.dot(theta)\n",
    "plt.plot(x, y_pred_gd, color='red', label='Градиентный спуск')\n",
    "y_pred_ne = X.dot(theta_normal)\n",
    "plt.plot(x, y_pred_ne, color='green', linestyle='--', label='Нормальное уравнение')\n",
    "plt.xlabel('x')\n",
    "plt.ylabel('y')\n",
    "plt.legend()\n",
    "plt.title('Сравнение методов')\n",
    "plt.show()\n"
   ],
   "outputs": [
    {
     "data": {
      "text/plain": [
       "<Figure size 640x480 with 1 Axes>"
      ],
      "image/png": "[encoded data removed]"
     },
     "metadata": {},
     "output_type": "display_data"
    }
   ],
   "execution_count": 386
  },
  {
   "cell_type": "markdown",
   "metadata": {},
   "source": [
    "**Задание 2. Исследование скорости спуска**  \n",
    "\n",
    "Протестируйте функцию `gradient_descent` на наборе данных `ml_lab1_train.txt`/`ml_lab1_test.txt` для разных значений скорости спуска $\\eta_k$, например, $\\eta_k = \\{0.5, 1.0, 2.0\\}$.  \n",
    "\n",
    "Оцените количество шагов для получения решения в каждом случае."
   ]
  },
  {
   "cell_type": "code",
   "metadata": {
    "ExecuteTime": {
     "end_time": "2024-12-12T16:05:33.970242Z",
     "start_time": "2024-12-12T16:05:33.966299Z"
    }
   },
   "source": [
    "data_train = np.loadtxt('../data/ml_lab1_train.txt', delimiter=',')\n",
    "data_test = np.loadtxt('../data/ml_lab1_test.txt', delimiter=',')\n",
    "X_train = data_train[:, 0]\n",
    "print(X_train)\n",
    "y_train = data_train[:, 1]\n",
    "X_test = data_test[:, 0]\n",
    "y_test = data_test[:, 1]"
   ],
   "outputs": [
    {
     "name": "stdout",
     "output_type": "stream",
     "text": [
      "[-0.2  -0.14 -0.08 -0.02  0.04  0.1   0.16  0.22  0.28  0.34  0.4   0.46\n",
      "  0.52  0.58  0.64  0.7   0.76  0.82  0.88  0.94  1.  ]\n"
     ]
    }
   ],
   "execution_count": 387
  },
  {
   "metadata": {
    "ExecuteTime": {
     "end_time": "2024-12-12T16:05:34.048929Z",
     "start_time": "2024-12-12T16:05:34.045583Z"
    }
   },
   "cell_type": "code",
   "source": [
    "from sklearn.metrics import mean_squared_error\n",
    "def check_learning_speed(type):\n",
    "    print(f\"gradient type: {type}\")\n",
    "    for i in [0.5, 1.0, 2.0]:\n",
    "        print(f\"learning rate: {i}\")\n",
    "        theta, iterations = get_gradient(X_train, y_train, type=type, lr=i)\n",
    "        print(f\"TRAIN: theta = {theta} iterations = {iterations}\")\n",
    "        y_train_pred = get_prediction(theta, X_train)\n",
    "        y_test_pred = get_prediction(theta, X_test)\n",
    "        mse_train = mean_squared_error(y_train, y_train_pred)\n",
    "        mse_test = mean_squared_error(y_test, y_test_pred)\n",
    "        print(f\"MSE TRAIN: {mse_train}, MSE TEST: {mse_test}\")"
   ],
   "outputs": [],
   "execution_count": 388
  },
  {
   "metadata": {
    "ExecuteTime": {
     "end_time": "2024-12-12T16:05:34.369548Z",
     "start_time": "2024-12-12T16:05:34.063550Z"
    }
   },
   "cell_type": "code",
   "source": [
    "check_learning_speed('default')\n",
    "check_learning_speed('batch')\n",
    "check_learning_speed('stochastic')"
   ],
   "outputs": [
    {
     "name": "stdout",
     "output_type": "stream",
     "text": [
      "gradient type: default\n",
      "learning rate: 0.5\n",
      "TRAIN: theta = [4.43322435 2.27914906] iterations = 180\n",
      "MSE TRAIN: 0.29689663329105115, MSE TEST: 0.43511958984201715\n",
      "learning rate: 1.0\n",
      "TRAIN: theta = [4.4332278  2.27914139] iterations = 81\n",
      "MSE TRAIN: 0.2968966332689024, MSE TEST: 0.4351199116093045\n",
      "learning rate: 2.0\n",
      "TRAIN: theta = [-1.81970291e+134 -8.19547751e+133] iterations = 1000\n",
      "MSE TRAIN: 4.700509712337671e+268, MSE TEST: 4.732525434936226e+268\n",
      "gradient type: batch\n",
      "learning rate: 0.5\n",
      "TRAIN: theta = [4.43326515 2.27905847] iterations = 580\n",
      "MSE TRAIN: 0.2968966340402003, MSE TEST: 0.43512338929343064\n",
      "learning rate: 1.0\n",
      "TRAIN: theta = [4.43321413 2.27917175] iterations = 386\n",
      "MSE TRAIN: 0.29689663344924117, MSE TEST: 0.43511863861656136\n",
      "learning rate: 2.0\n",
      "TRAIN: theta = [4.43323914 2.27911621] iterations = 191\n",
      "MSE TRAIN: 0.2968966333075387, MSE TEST: 0.4351209674625598\n",
      "gradient type: stochastic\n",
      "learning rate: 0.5\n",
      "TRAIN: theta = [4.55901933 2.49280652] iterations = 3424\n",
      "MSE TRAIN: 0.3475528083027721, MSE TEST: 0.5658274742572816\n",
      "learning rate: 1.0\n",
      "TRAIN: theta = [6.27353507 2.77291306] iterations = 21000\n",
      "MSE TRAIN: 4.48177290233473, MSE TEST: 5.417647317339361\n",
      "learning rate: 2.0\n",
      "TRAIN: theta = [nan nan] iterations = 21000\n"
     ]
    },
    {
     "name": "stderr",
     "output_type": "stream",
     "text": [
      "C:\\Users\\giezz\\AppData\\Local\\Temp\\ipykernel_17564\\46323081.py:20: RuntimeWarning: invalid value encountered in subtract\n",
      "  new_theta = theta - lr * gradient\n"
     ]
    },
    {
     "ename": "ValueError",
     "evalue": "Input contains NaN.",
     "output_type": "error",
     "traceback": [
      "\u001B[1;31m---------------------------------------------------------------------------\u001B[0m",
      "\u001B[1;31mValueError\u001B[0m                                Traceback (most recent call last)",
      "Cell \u001B[1;32mIn[389], line 3\u001B[0m\n\u001B[0;32m      1\u001B[0m check_learning_speed(\u001B[38;5;124m'\u001B[39m\u001B[38;5;124mdefault\u001B[39m\u001B[38;5;124m'\u001B[39m)\n\u001B[0;32m      2\u001B[0m check_learning_speed(\u001B[38;5;124m'\u001B[39m\u001B[38;5;124mbatch\u001B[39m\u001B[38;5;124m'\u001B[39m)\n\u001B[1;32m----> 3\u001B[0m check_learning_speed(\u001B[38;5;124m'\u001B[39m\u001B[38;5;124mstochastic\u001B[39m\u001B[38;5;124m'\u001B[39m)\n",
      "Cell \u001B[1;32mIn[388], line 10\u001B[0m, in \u001B[0;36mcheck_learning_speed\u001B[1;34m(type)\u001B[0m\n\u001B[0;32m      8\u001B[0m y_train_pred \u001B[38;5;241m=\u001B[39m get_prediction(theta, X_train)\n\u001B[0;32m      9\u001B[0m y_test_pred \u001B[38;5;241m=\u001B[39m get_prediction(theta, X_test)\n\u001B[1;32m---> 10\u001B[0m mse_train \u001B[38;5;241m=\u001B[39m mean_squared_error(y_train, y_train_pred)\n\u001B[0;32m     11\u001B[0m mse_test \u001B[38;5;241m=\u001B[39m mean_squared_error(y_test, y_test_pred)\n\u001B[0;32m     12\u001B[0m \u001B[38;5;28mprint\u001B[39m(\u001B[38;5;124mf\u001B[39m\u001B[38;5;124m\"\u001B[39m\u001B[38;5;124mMSE TRAIN: \u001B[39m\u001B[38;5;132;01m{\u001B[39;00mmse_train\u001B[38;5;132;01m}\u001B[39;00m\u001B[38;5;124m, MSE TEST: \u001B[39m\u001B[38;5;132;01m{\u001B[39;00mmse_test\u001B[38;5;132;01m}\u001B[39;00m\u001B[38;5;124m\"\u001B[39m)\n",
      "File \u001B[1;32mC:\\ProgramData\\anaconda3\\Lib\\site-packages\\sklearn\\utils\\_param_validation.py:213\u001B[0m, in \u001B[0;36mvalidate_params.<locals>.decorator.<locals>.wrapper\u001B[1;34m(*args, **kwargs)\u001B[0m\n\u001B[0;32m    207\u001B[0m \u001B[38;5;28;01mtry\u001B[39;00m:\n\u001B[0;32m    208\u001B[0m     \u001B[38;5;28;01mwith\u001B[39;00m config_context(\n\u001B[0;32m    209\u001B[0m         skip_parameter_validation\u001B[38;5;241m=\u001B[39m(\n\u001B[0;32m    210\u001B[0m             prefer_skip_nested_validation \u001B[38;5;129;01mor\u001B[39;00m global_skip_validation\n\u001B[0;32m    211\u001B[0m         )\n\u001B[0;32m    212\u001B[0m     ):\n\u001B[1;32m--> 213\u001B[0m         \u001B[38;5;28;01mreturn\u001B[39;00m func(\u001B[38;5;241m*\u001B[39margs, \u001B[38;5;241m*\u001B[39m\u001B[38;5;241m*\u001B[39mkwargs)\n\u001B[0;32m    214\u001B[0m \u001B[38;5;28;01mexcept\u001B[39;00m InvalidParameterError \u001B[38;5;28;01mas\u001B[39;00m e:\n\u001B[0;32m    215\u001B[0m     \u001B[38;5;66;03m# When the function is just a wrapper around an estimator, we allow\u001B[39;00m\n\u001B[0;32m    216\u001B[0m     \u001B[38;5;66;03m# the function to delegate validation to the estimator, but we replace\u001B[39;00m\n\u001B[0;32m    217\u001B[0m     \u001B[38;5;66;03m# the name of the estimator by the name of the function in the error\u001B[39;00m\n\u001B[0;32m    218\u001B[0m     \u001B[38;5;66;03m# message to avoid confusion.\u001B[39;00m\n\u001B[0;32m    219\u001B[0m     msg \u001B[38;5;241m=\u001B[39m re\u001B[38;5;241m.\u001B[39msub(\n\u001B[0;32m    220\u001B[0m         \u001B[38;5;124mr\u001B[39m\u001B[38;5;124m\"\u001B[39m\u001B[38;5;124mparameter of \u001B[39m\u001B[38;5;124m\\\u001B[39m\u001B[38;5;124mw+ must be\u001B[39m\u001B[38;5;124m\"\u001B[39m,\n\u001B[0;32m    221\u001B[0m         \u001B[38;5;124mf\u001B[39m\u001B[38;5;124m\"\u001B[39m\u001B[38;5;124mparameter of \u001B[39m\u001B[38;5;132;01m{\u001B[39;00mfunc\u001B[38;5;241m.\u001B[39m\u001B[38;5;18m__qualname__\u001B[39m\u001B[38;5;132;01m}\u001B[39;00m\u001B[38;5;124m must be\u001B[39m\u001B[38;5;124m\"\u001B[39m,\n\u001B[0;32m    222\u001B[0m         \u001B[38;5;28mstr\u001B[39m(e),\n\u001B[0;32m    223\u001B[0m     )\n",
      "File \u001B[1;32mC:\\ProgramData\\anaconda3\\Lib\\site-packages\\sklearn\\metrics\\_regression.py:506\u001B[0m, in \u001B[0;36mmean_squared_error\u001B[1;34m(y_true, y_pred, sample_weight, multioutput, squared)\u001B[0m\n\u001B[0;32m    501\u001B[0m     \u001B[38;5;28;01mif\u001B[39;00m \u001B[38;5;129;01mnot\u001B[39;00m squared:\n\u001B[0;32m    502\u001B[0m         \u001B[38;5;28;01mreturn\u001B[39;00m root_mean_squared_error(\n\u001B[0;32m    503\u001B[0m             y_true, y_pred, sample_weight\u001B[38;5;241m=\u001B[39msample_weight, multioutput\u001B[38;5;241m=\u001B[39mmultioutput\n\u001B[0;32m    504\u001B[0m         )\n\u001B[1;32m--> 506\u001B[0m y_type, y_true, y_pred, multioutput \u001B[38;5;241m=\u001B[39m _check_reg_targets(\n\u001B[0;32m    507\u001B[0m     y_true, y_pred, multioutput\n\u001B[0;32m    508\u001B[0m )\n\u001B[0;32m    509\u001B[0m check_consistent_length(y_true, y_pred, sample_weight)\n\u001B[0;32m    510\u001B[0m output_errors \u001B[38;5;241m=\u001B[39m np\u001B[38;5;241m.\u001B[39maverage((y_true \u001B[38;5;241m-\u001B[39m y_pred) \u001B[38;5;241m*\u001B[39m\u001B[38;5;241m*\u001B[39m \u001B[38;5;241m2\u001B[39m, axis\u001B[38;5;241m=\u001B[39m\u001B[38;5;241m0\u001B[39m, weights\u001B[38;5;241m=\u001B[39msample_weight)\n",
      "File \u001B[1;32mC:\\ProgramData\\anaconda3\\Lib\\site-packages\\sklearn\\metrics\\_regression.py:113\u001B[0m, in \u001B[0;36m_check_reg_targets\u001B[1;34m(y_true, y_pred, multioutput, dtype, xp)\u001B[0m\n\u001B[0;32m    111\u001B[0m check_consistent_length(y_true, y_pred)\n\u001B[0;32m    112\u001B[0m y_true \u001B[38;5;241m=\u001B[39m check_array(y_true, ensure_2d\u001B[38;5;241m=\u001B[39m\u001B[38;5;28;01mFalse\u001B[39;00m, dtype\u001B[38;5;241m=\u001B[39mdtype)\n\u001B[1;32m--> 113\u001B[0m y_pred \u001B[38;5;241m=\u001B[39m check_array(y_pred, ensure_2d\u001B[38;5;241m=\u001B[39m\u001B[38;5;28;01mFalse\u001B[39;00m, dtype\u001B[38;5;241m=\u001B[39mdtype)\n\u001B[0;32m    115\u001B[0m \u001B[38;5;28;01mif\u001B[39;00m y_true\u001B[38;5;241m.\u001B[39mndim \u001B[38;5;241m==\u001B[39m \u001B[38;5;241m1\u001B[39m:\n\u001B[0;32m    116\u001B[0m     y_true \u001B[38;5;241m=\u001B[39m xp\u001B[38;5;241m.\u001B[39mreshape(y_true, (\u001B[38;5;241m-\u001B[39m\u001B[38;5;241m1\u001B[39m, \u001B[38;5;241m1\u001B[39m))\n",
      "File \u001B[1;32mC:\\ProgramData\\anaconda3\\Lib\\site-packages\\sklearn\\utils\\validation.py:1064\u001B[0m, in \u001B[0;36mcheck_array\u001B[1;34m(array, accept_sparse, accept_large_sparse, dtype, order, copy, force_writeable, force_all_finite, ensure_2d, allow_nd, ensure_min_samples, ensure_min_features, estimator, input_name)\u001B[0m\n\u001B[0;32m   1058\u001B[0m     \u001B[38;5;28;01mraise\u001B[39;00m \u001B[38;5;167;01mValueError\u001B[39;00m(\n\u001B[0;32m   1059\u001B[0m         \u001B[38;5;124m\"\u001B[39m\u001B[38;5;124mFound array with dim \u001B[39m\u001B[38;5;132;01m%d\u001B[39;00m\u001B[38;5;124m. \u001B[39m\u001B[38;5;132;01m%s\u001B[39;00m\u001B[38;5;124m expected <= 2.\u001B[39m\u001B[38;5;124m\"\u001B[39m\n\u001B[0;32m   1060\u001B[0m         \u001B[38;5;241m%\u001B[39m (array\u001B[38;5;241m.\u001B[39mndim, estimator_name)\n\u001B[0;32m   1061\u001B[0m     )\n\u001B[0;32m   1063\u001B[0m \u001B[38;5;28;01mif\u001B[39;00m force_all_finite:\n\u001B[1;32m-> 1064\u001B[0m     _assert_all_finite(\n\u001B[0;32m   1065\u001B[0m         array,\n\u001B[0;32m   1066\u001B[0m         input_name\u001B[38;5;241m=\u001B[39minput_name,\n\u001B[0;32m   1067\u001B[0m         estimator_name\u001B[38;5;241m=\u001B[39mestimator_name,\n\u001B[0;32m   1068\u001B[0m         allow_nan\u001B[38;5;241m=\u001B[39mforce_all_finite \u001B[38;5;241m==\u001B[39m \u001B[38;5;124m\"\u001B[39m\u001B[38;5;124mallow-nan\u001B[39m\u001B[38;5;124m\"\u001B[39m,\n\u001B[0;32m   1069\u001B[0m     )\n\u001B[0;32m   1071\u001B[0m \u001B[38;5;28;01mif\u001B[39;00m copy:\n\u001B[0;32m   1072\u001B[0m     \u001B[38;5;28;01mif\u001B[39;00m _is_numpy_namespace(xp):\n\u001B[0;32m   1073\u001B[0m         \u001B[38;5;66;03m# only make a copy if `array` and `array_orig` may share memory`\u001B[39;00m\n",
      "File \u001B[1;32mC:\\ProgramData\\anaconda3\\Lib\\site-packages\\sklearn\\utils\\validation.py:123\u001B[0m, in \u001B[0;36m_assert_all_finite\u001B[1;34m(X, allow_nan, msg_dtype, estimator_name, input_name)\u001B[0m\n\u001B[0;32m    120\u001B[0m \u001B[38;5;28;01mif\u001B[39;00m first_pass_isfinite:\n\u001B[0;32m    121\u001B[0m     \u001B[38;5;28;01mreturn\u001B[39;00m\n\u001B[1;32m--> 123\u001B[0m _assert_all_finite_element_wise(\n\u001B[0;32m    124\u001B[0m     X,\n\u001B[0;32m    125\u001B[0m     xp\u001B[38;5;241m=\u001B[39mxp,\n\u001B[0;32m    126\u001B[0m     allow_nan\u001B[38;5;241m=\u001B[39mallow_nan,\n\u001B[0;32m    127\u001B[0m     msg_dtype\u001B[38;5;241m=\u001B[39mmsg_dtype,\n\u001B[0;32m    128\u001B[0m     estimator_name\u001B[38;5;241m=\u001B[39mestimator_name,\n\u001B[0;32m    129\u001B[0m     input_name\u001B[38;5;241m=\u001B[39minput_name,\n\u001B[0;32m    130\u001B[0m )\n",
      "File \u001B[1;32mC:\\ProgramData\\anaconda3\\Lib\\site-packages\\sklearn\\utils\\validation.py:172\u001B[0m, in \u001B[0;36m_assert_all_finite_element_wise\u001B[1;34m(X, xp, allow_nan, msg_dtype, estimator_name, input_name)\u001B[0m\n\u001B[0;32m    155\u001B[0m \u001B[38;5;28;01mif\u001B[39;00m estimator_name \u001B[38;5;129;01mand\u001B[39;00m input_name \u001B[38;5;241m==\u001B[39m \u001B[38;5;124m\"\u001B[39m\u001B[38;5;124mX\u001B[39m\u001B[38;5;124m\"\u001B[39m \u001B[38;5;129;01mand\u001B[39;00m has_nan_error:\n\u001B[0;32m    156\u001B[0m     \u001B[38;5;66;03m# Improve the error message on how to handle missing values in\u001B[39;00m\n\u001B[0;32m    157\u001B[0m     \u001B[38;5;66;03m# scikit-learn.\u001B[39;00m\n\u001B[0;32m    158\u001B[0m     msg_err \u001B[38;5;241m+\u001B[39m\u001B[38;5;241m=\u001B[39m (\n\u001B[0;32m    159\u001B[0m         \u001B[38;5;124mf\u001B[39m\u001B[38;5;124m\"\u001B[39m\u001B[38;5;130;01m\\n\u001B[39;00m\u001B[38;5;132;01m{\u001B[39;00mestimator_name\u001B[38;5;132;01m}\u001B[39;00m\u001B[38;5;124m does not accept missing values\u001B[39m\u001B[38;5;124m\"\u001B[39m\n\u001B[0;32m    160\u001B[0m         \u001B[38;5;124m\"\u001B[39m\u001B[38;5;124m encoded as NaN natively. For supervised learning, you might want\u001B[39m\u001B[38;5;124m\"\u001B[39m\n\u001B[1;32m   (...)\u001B[0m\n\u001B[0;32m    170\u001B[0m         \u001B[38;5;124m\"\u001B[39m\u001B[38;5;124m#estimators-that-handle-nan-values\u001B[39m\u001B[38;5;124m\"\u001B[39m\n\u001B[0;32m    171\u001B[0m     )\n\u001B[1;32m--> 172\u001B[0m \u001B[38;5;28;01mraise\u001B[39;00m \u001B[38;5;167;01mValueError\u001B[39;00m(msg_err)\n",
      "\u001B[1;31mValueError\u001B[0m: Input contains NaN."
     ]
    }
   ],
   "execution_count": 389
  },
  {
   "cell_type": "markdown",
   "metadata": {},
   "source": [
    "**Задание 3. Стохастический градиентный спуск**  \n",
    "\n",
    "Стохастический градиентный спуск отличается от обычного заменой градиента на его оценку по одному или нескольким объектам. В этом случае сложность становится $O(kd)$, где $k$ – количество объектов, по которым оценивается градиент, $k<<l$. Это отчасти объясняет популярность стохастических методов оптимизации.  \n",
    "\n",
    "Реализуйте функцию `stochastic_gradient_descent`, которая находит вектор весов на основе стохастического градиентного спуска (вычисление градиента на одном случайном примере).  \n",
    "\n",
    "На наборе данных `ml_lab1_train.txt`/`ml_lab1_test.txt` оцените количество шагов для получения решения при разных значениях скорости спуска $\\eta_k$, например, $\\eta_k = \\{0.5, 1.0, 2.0\\}$."
   ]
  },
  {
   "cell_type": "code",
   "metadata": {
    "ExecuteTime": {
     "end_time": "2024-12-12T16:05:34.371056200Z",
     "start_time": "2024-12-12T16:04:58.793850Z"
    }
   },
   "source": [
    "def stochastic_gradient_descent(X, y, lr=0.01, max_iter=1000, eps=1e-6):\n",
    "    X = X.reshape(-1, 1)\n",
    "    X = np.concatenate([np.ones((X.shape[0], 1)), X], axis=1)\n",
    "    m = len(y)\n",
    "    theta = np.array([np.random.choice(X[:, 1]), np.random.choice(X[:, 1])])\n",
    "    iterations = 0\n",
    "\n",
    "    for _ in range(max_iter):\n",
    "        iterations += 1\n",
    "        idx = np.random.randint(m)\n",
    "        X_i = X[idx:idx+1]\n",
    "        # print(\"x \",X_i)\n",
    "        y_i = y[idx]\n",
    "        # print(\"y \", y_i)\n",
    "        prediction = X_i.dot(theta)\n",
    "        gradient = X_i.T.dot(prediction - y_i)\n",
    "        new_theta = theta - lr * gradient\n",
    "        if np.linalg.norm(new_theta - theta) < eps:\n",
    "            return new_theta, iterations\n",
    "\n",
    "        theta = new_theta\n",
    "\n",
    "    return theta, iterations"
   ],
   "outputs": [],
   "execution_count": 374
  },
  {
   "metadata": {
    "ExecuteTime": {
     "end_time": "2024-12-12T16:05:34.372056400Z",
     "start_time": "2024-12-12T16:04:58.830222Z"
    }
   },
   "cell_type": "code",
   "source": "",
   "outputs": [],
   "execution_count": null
  },
  {
   "metadata": {
    "ExecuteTime": {
     "end_time": "2024-12-12T16:05:34.372056400Z",
     "start_time": "2024-12-12T16:04:58.838177Z"
    }
   },
   "cell_type": "code",
   "source": [
    "for i in [0.5, 1.0, 2.0] :\n",
    "    print(f\"learning rate: {i}\")\n",
    "    theta, iterations = stochastic_gradient_descent(X_train, y_train, lr=i, max_iter=1000, eps=1e-6)\n",
    "    print(f\"TRAIN: theta = {theta} iterations = {iterations}\")\n",
    "    theta, iterations = stochastic_gradient_descent(X_test, y_test, lr=i, max_iter=1000, eps=1e-6)\n",
    "    print(f\"TEST: theta = {theta} iterations = {iterations}\")"
   ],
   "outputs": [
    {
     "name": "stdout",
     "output_type": "stream",
     "text": [
      "learning rate: 0.5\n",
      "TRAIN: theta = [4.61909446 2.43273139] iterations = 759\n",
      "TEST: theta = [4.62823494 2.96522575] iterations = 1000\n",
      "learning rate: 1.0\n",
      "TRAIN: theta = [5.13932184 4.23353898] iterations = 1000\n",
      "TEST: theta = [4.99559929 1.57519778] iterations = 1000\n",
      "learning rate: 2.0\n",
      "TRAIN: theta = [8.34400686e+126 2.11308219e+127] iterations = 1000\n",
      "TEST: theta = [-8.33395056e+128 -2.51472130e+127] iterations = 1000\n"
     ]
    }
   ],
   "execution_count": 375
  },
  {
   "cell_type": "markdown",
   "metadata": {},
   "source": [
    "**Задание 4. Градиентный спуск по мини-батчам**  \n",
    "\n",
    "Реализуйте функцию `mini_batch_gradient_descent`, которая находит вектор весов на основе градиентного спуска по мини-батчам (вычисление градиента на подмножестве случайно выбранных примеров). Размер мини-батча должен быть параметром функции.  \n",
    "\n",
    "На наборе данных `ml_lab1_train.txt`/`ml_lab1_test.txt` оцените количество шагов для получения решения при разных значениях скорости спуска $\\eta_k$, например, $\\eta_k = \\{0.5, 1.0, 2.0\\}$."
   ]
  },
  {
   "cell_type": "code",
   "metadata": {
    "ExecuteTime": {
     "end_time": "2024-12-12T16:05:34.383559800Z",
     "start_time": "2024-12-12T16:04:58.887104Z"
    }
   },
   "source": [
    "def mini_batch_gradient_descent(X, y, lr=0.01, max_iter=1000, eps=1e-6, batch_size=32):\n",
    "    X = X.reshape(-1, 1)\n",
    "    X = np.concatenate([np.ones((X.shape[0], 1)), X], axis=1)\n",
    "    m = len(y)\n",
    "    theta = np.random.randn(2)\n",
    "\n",
    "    iterations = 0\n",
    "    for _ in range(max_iter):\n",
    "        indices = np.random.permutation(m)\n",
    "        X_shuffled = X[indices]\n",
    "        y_shuffled = y[indices]\n",
    "\n",
    "        for i in range(0, m, batch_size):\n",
    "            X_batch = X_shuffled[i:i + batch_size]\n",
    "            y_batch = y_shuffled[i:i + batch_size]\n",
    "\n",
    "            predictions = X_batch.dot(theta)\n",
    "            gradient = (1 / batch_size) * X_batch.T.dot(predictions - y_batch)\n",
    "            new_theta = theta - lr * gradient\n",
    "            if np.linalg.norm(new_theta - theta) < eps:\n",
    "                return new_theta, iterations\n",
    "\n",
    "            theta = new_theta\n",
    "\n",
    "        iterations += 1\n",
    "\n",
    "    return theta, iterations"
   ],
   "outputs": [],
   "execution_count": 376
  },
  {
   "metadata": {
    "ExecuteTime": {
     "end_time": "2024-12-12T16:05:34.384565900Z",
     "start_time": "2024-12-12T16:04:58.897701Z"
    }
   },
   "cell_type": "code",
   "source": [
    "for i in [0.5, 1.0, 2.0] :\n",
    "    print(f\"learning rate: {i}\")\n",
    "    theta, iterations = stochastic_gradient_descent(X_train, y_train, lr=i, max_iter=1000, eps=1e-6)\n",
    "    print(f\"TRAIN: theta = {theta} iterations = {iterations}\")\n",
    "    theta, iterations = stochastic_gradient_descent(X_test, y_test, lr=i, max_iter=1000, eps=1e-6)\n",
    "    print(f\"TEST: theta = {theta} iterations = {iterations}\")"
   ],
   "outputs": [
    {
     "name": "stdout",
     "output_type": "stream",
     "text": [
      "learning rate: 0.5\n",
      "TRAIN: theta = [4.84623204 2.20559381] iterations = 111\n",
      "TEST: theta = [5.11221283 2.1738802 ] iterations = 1000\n",
      "learning rate: 1.0\n",
      "TRAIN: theta = [4.99845634 2.63877843] iterations = 430\n",
      "TEST: theta = [3.80510612 3.16428111] iterations = 1000\n",
      "learning rate: 2.0\n",
      "TRAIN: theta = [-5.7375641e+114 -3.2231968e+113] iterations = 1000\n",
      "TEST: theta = [-4.51715053e+126 -6.77747680e+126] iterations = 1000\n"
     ]
    }
   ],
   "execution_count": 377
  }
 ],
 "metadata": {
  "kernelspec": {
   "display_name": "Python 3 (ipykernel)",
   "language": "python",
   "name": "python3"
  },
  "language_info": {
   "codemirror_mode": {
    "name": "ipython",
    "version": 3
   },
   "file_extension": ".py",
   "mimetype": "text/x-python",
   "name": "python",
   "nbconvert_exporter": "python",
   "pygments_lexer": "ipython3",
   "version": "3.9.12"
  }
 },
 "nbformat": 4,
 "nbformat_minor": 4
}
