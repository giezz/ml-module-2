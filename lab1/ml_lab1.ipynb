{
 "cells": [
  {
   "cell_type": "markdown",
   "metadata": {},
   "source": [
    "# Лабораторная работа 1. Линейная регрессия. Нормальное уравнение"
   ]
  },
  {
   "cell_type": "markdown",
   "metadata": {},
   "source": [
    "Если для оценки качества в регресии используется среднеквадратичная ошибка (*mean squared error, MSE*), то ошибка на одном примере (*функция потерь*) будет определяться выражением:\n",
    "\n",
    "$$L(y,a)=(a-y)^2$$\n",
    "\n",
    "а суммарная ошибка (*функционал ошибки*):\n",
    "\n",
    "$$MSE(a,X)=\\frac1{l}\\sum_{i=1}^lL(y_i,a(\\overrightarrow{x_i}))=\\frac1{l}\\sum_{i=1}^l(a(\\overrightarrow{x_i})-y_i)^2$$\n",
    "\n",
    "В случае линейной регресии:\n",
    "\n",
    "$$a(\\overrightarrow{x_i})=\\langle \\overrightarrow{w},\\overrightarrow{x_i}\\rangle$$\n",
    "\n",
    "Задача оптимизации:\n",
    "\n",
    "$$\\frac1{l}\\sum_{i=1}^l (\\langle \\overrightarrow{w},\\overrightarrow{x_i}\\rangle-y_i)^2\\to \\min_{\\overrightarrow{w}}$$\n",
    "\n",
    "Тогда, продифференцировав функционал ошибки по $\\overrightarrow{w}$, приравняв его нулю и решив полученное уравнение, получим следующее выражение для оптимального вектора весов, которое называется *нормальным уравнением*:\n",
    "\n",
    "$$\\overrightarrow{w}_{opt} = \\left(X^TX\\right)^{-1}X^T\\overrightarrow{y}.$$"
   ]
  },
  {
   "cell_type": "markdown",
   "metadata": {},
   "source": [
    "**Задание 1. Пример из лекций**\n",
    "\n",
    "Напишите функцию ``get_weight``, которая находит вектор весов на основе нормального уравнения.\n",
    "\n",
    "Полезные функции: ``numpy.ones(n)`` для создания массива из единиц длины $n$ и ``numpy.concatenate((А, В), axis=1)`` для слияния двух матриц по столбцам (пара ``А`` и ``В`` превращается в матрицу ``[A B]``).\n",
    "\n",
    "Проверьте работу функции на простом примере из лекций:\n",
    "\n",
    "$$x_1=2, x_2=3, x_3=5$$\n",
    "\n",
    "$$y_1=1, y_2=3, y_3=4$$\n",
    "\n",
    "Имейте в виду, что $X$ – это матрица (в данном примере состоящая из одного столбца).\n",
    "\n",
    "Нарисуйте исходные данные и полученную линию регресии при помощи ``matplotlib``: для рисования точек используйте ``plt.scatter``, для рисования линии – ``plt.plot``."
   ]
  },
  {
   "cell_type": "code",
   "metadata": {
    "ExecuteTime": {
     "end_time": "2024-11-14T16:34:20.510075Z",
     "start_time": "2024-11-14T16:34:20.500574Z"
    }
   },
   "source": [
    "import numpy as np\n",
    "import scipy.linalg as sla\n",
    "import matplotlib.pyplot as plt\n",
    "%matplotlib inline"
   ],
   "outputs": [],
   "execution_count": 241
  },
  {
   "metadata": {
    "ExecuteTime": {
     "end_time": "2024-11-14T16:34:20.558102Z",
     "start_time": "2024-11-14T16:34:20.551409Z"
    }
   },
   "cell_type": "code",
   "source": [
    "X = np.array([2, 3, 5])\n",
    "y = np.array([1, 3, 4])"
   ],
   "outputs": [],
   "execution_count": 242
  },
  {
   "metadata": {
    "ExecuteTime": {
     "end_time": "2024-11-14T16:34:20.611487Z",
     "start_time": "2024-11-14T16:34:20.592629Z"
    }
   },
   "cell_type": "code",
   "source": [
    "# step by step solution\n",
    "print(\"X\")\n",
    "print(X)\n",
    "print(\"X shape \", X.shape)\n",
    "print(\"y\")\n",
    "print(y)\n",
    "print(\"y shape\", y.shape)\n",
    "X_resh = X.reshape(-1, 1)\n",
    "print(\"X_resh and shape\\n\", X_resh, X_resh.shape)\n",
    "X_c = np.concatenate([np.ones((X_resh.shape[0], 1)), X_resh], axis=1)\n",
    "print(\"X concatenated with ones and shape\\n\", X_c, X_c.shape)\n",
    "X_ct = X_c.T\n",
    "print(\"transposed and shape\\n\", X_ct, X_ct.shape)\n",
    "X_mult = X_ct.dot(X_c)\n",
    "print(\"product and shape\\n\", X_mult, X_mult.shape)\n",
    "X_inv = np.linalg.inv(X_mult)\n",
    "print(\"X inv ahd shape\\n\", X_inv, X_inv.shape)\n",
    "X_inv_prod = X_inv.dot(X_ct)\n",
    "print(\"X_inv_prod and shape\\n\", X_inv_prod, X_inv_prod.shape)\n",
    "X_y_prod = X_inv_prod.dot(y)\n",
    "print(\"X_y_prod\\n\", X_y_prod, X_y_prod.shape)"
   ],
   "outputs": [
    {
     "name": "stdout",
     "output_type": "stream",
     "text": [
      "X\n",
      "[2 3 5]\n",
      "X shape  (3,)\n",
      "y\n",
      "[1 3 4]\n",
      "y shape (3,)\n",
      "X_resh and shape\n",
      " [[2]\n",
      " [3]\n",
      " [5]] (3, 1)\n",
      "X concatenated with ones and shape\n",
      " [[1. 2.]\n",
      " [1. 3.]\n",
      " [1. 5.]] (3, 2)\n",
      "transposed and shape\n",
      " [[1. 1. 1.]\n",
      " [2. 3. 5.]] (2, 3)\n",
      "product and shape\n",
      " [[ 3. 10.]\n",
      " [10. 38.]] (2, 2)\n",
      "X inv ahd shape\n",
      " [[ 2.71428571 -0.71428571]\n",
      " [-0.71428571  0.21428571]] (2, 2)\n",
      "X_inv_prod and shape\n",
      " [[ 1.28571429  0.57142857 -0.85714286]\n",
      " [-0.28571429 -0.07142857  0.35714286]] (2, 3)\n",
      "X_y_prod\n",
      " [-0.42857143  0.92857143] (2,)\n"
     ]
    }
   ],
   "execution_count": 243
  },
  {
   "cell_type": "code",
   "metadata": {
    "ExecuteTime": {
     "end_time": "2024-11-14T16:34:20.682510Z",
     "start_time": "2024-11-14T16:34:20.673291Z"
    }
   },
   "source": [
    "def get_weight(X, y):\n",
    "    X = X.reshape(-1, 1)\n",
    "    X_c = np.concatenate([np.ones((X.shape[0], 1)), X], axis=1)\n",
    "\n",
    "    return np.linalg.inv(X_c.T.dot(X_c)).dot(X_c.T).dot(y)"
   ],
   "outputs": [],
   "execution_count": 244
  },
  {
   "metadata": {
    "ExecuteTime": {
     "end_time": "2024-11-14T16:34:20.767828Z",
     "start_time": "2024-11-14T16:34:20.757120Z"
    }
   },
   "cell_type": "code",
   "source": [
    "weights = get_weight(X, y)\n",
    "print(\"weights: \", weights)"
   ],
   "outputs": [
    {
     "name": "stdout",
     "output_type": "stream",
     "text": [
      "weights:  [-0.42857143  0.92857143]\n"
     ]
    }
   ],
   "execution_count": 245
  },
  {
   "metadata": {
    "ExecuteTime": {
     "end_time": "2024-11-14T16:34:20.814869Z",
     "start_time": "2024-11-14T16:34:20.807845Z"
    }
   },
   "cell_type": "code",
   "source": [
    "def get_prediction(x):\n",
    "    return weights[1] * x + weights[0]"
   ],
   "outputs": [],
   "execution_count": 246
  },
  {
   "metadata": {
    "ExecuteTime": {
     "end_time": "2024-11-14T16:34:21.202385Z",
     "start_time": "2024-11-14T16:34:20.920836Z"
    }
   },
   "cell_type": "code",
   "source": [
    "plt.scatter(X, y, color=\"blue\", label=\"data\")\n",
    "X_line = np.linspace(1, 6, 100)\n",
    "y_line = get_prediction(X_line)\n",
    "plt.plot(X_line, y_line, color=\"red\", label=\"regression\")\n",
    "plt.xlabel(\"x\")\n",
    "plt.ylabel(\"y\")\n",
    "plt.legend()\n",
    "plt.show()"
   ],
   "outputs": [
    {
     "data": {
      "text/plain": [
       "<Figure size 640x480 with 1 Axes>"
      ],
      "image/png": "[encoded data removed]"
     },
     "metadata": {},
     "output_type": "display_data"
    }
   ],
   "execution_count": 247
  },
  {
   "cell_type": "markdown",
   "metadata": {},
   "source": [
    "Найдите значения функционалов ошибки $MSE$, $RMSE$, $R^2$."
   ]
  },
  {
   "cell_type": "code",
   "metadata": {
    "ExecuteTime": {
     "end_time": "2024-11-14T16:34:21.241096Z",
     "start_time": "2024-11-14T16:34:21.232225Z"
    }
   },
   "source": [
    "def MSE(y_test, y_predict):\n",
    "    return np.mean((y_test - y_predict) ** 2)\n",
    "\n",
    "\n",
    "def RMSE(y_test, y_predict):\n",
    "    return np.sqrt(MSE(y_test, y_predict))\n",
    "\n",
    "\n",
    "def R2(y_test, y_predict):\n",
    "    ss_res = np.sum((y_test - y_predict) ** 2)\n",
    "    ss_tot = np.sum((y_test - np.mean(y_test)) ** 2)\n",
    "    return 1 - (ss_res / ss_tot)"
   ],
   "outputs": [],
   "execution_count": 248
  },
  {
   "cell_type": "markdown",
   "metadata": {},
   "source": [
    "Сравните полученные значения с библиотечными функциями $MSE$ и $R2$ из [scikit-learn](https://scikit-learn.org/stable/modules/model_evaluation.html#regression-metrics)."
   ]
  },
  {
   "metadata": {
    "ExecuteTime": {
     "end_time": "2024-11-14T16:34:21.289398Z",
     "start_time": "2024-11-14T16:34:21.280849Z"
    }
   },
   "cell_type": "code",
   "source": [
    "from sklearn.metrics import mean_squared_error, r2_score\n",
    "\n",
    "y_test = y\n",
    "y_predict = np.array([get_prediction(2), get_prediction(3), get_prediction(5)])\n",
    "\n",
    "\n",
    "def show_errors_diffs(y_test, y_predict):\n",
    "    print(f\"MSE: {MSE(y_test, y_predict)}, MSE(sklearn) {mean_squared_error(y_test, y_predict)}\")\n",
    "    print(f\"R2: {R2(y_test, y_predict)}, R2 (sklearn) {r2_score(y_test, y_predict)}\")"
   ],
   "outputs": [],
   "execution_count": 249
  },
  {
   "metadata": {
    "ExecuteTime": {
     "end_time": "2024-11-14T16:34:21.330242Z",
     "start_time": "2024-11-14T16:34:21.319246Z"
    }
   },
   "cell_type": "code",
   "source": [
    "print(f\"RMSE: {RMSE(y_test, y_predict)}\")\n",
    "show_errors_diffs(y_test, y_predict)"
   ],
   "outputs": [
    {
     "name": "stdout",
     "output_type": "stream",
     "text": [
      "RMSE: 0.4629100498862757\n",
      "MSE: 0.21428571428571427, MSE(sklearn) 0.21428571428571427\n",
      "R2: 0.8622448979591837, R2 (sklearn) 0.8622448979591837\n"
     ]
    }
   ],
   "execution_count": 250
  },
  {
   "cell_type": "markdown",
   "metadata": {},
   "source": [
    "**Задание 2. Более сложный пример**.\n",
    "Скачайте файлы ``ml_lab1_train.txt`` и ``ml_lab1_test.txt``. В первом из них находится обучающая выборка, а во втором – тестовая. Каждый из файлов содержит два столбца чисел, разделённых пробелами: в первом – $n$ точек (значения аргумента $x$), во втором – значения некоторой функции $y = f(x)$ в этих точках, искажённые случайным шумом. Ваша задача – по обучающей выборке подобрать функцию $y = a(x)$, приближающую неизвестную вам зависимость."
   ]
  },
  {
   "cell_type": "markdown",
   "metadata": {},
   "source": [
    "Загрузим обучающие и тестовые данные (не забудьте ввести правильный путь!)."
   ]
  },
  {
   "cell_type": "code",
   "metadata": {
    "ExecuteTime": {
     "end_time": "2024-11-14T16:34:21.366669Z",
     "start_time": "2024-11-14T16:34:21.358560Z"
    }
   },
   "source": [
    "data_train = np.loadtxt('../data/ml_lab1_train.txt', delimiter=',')\n",
    "data_test = np.loadtxt('../data/ml_lab1_test.txt', delimiter=',')"
   ],
   "outputs": [],
   "execution_count": 251
  },
  {
   "cell_type": "code",
   "metadata": {
    "ExecuteTime": {
     "end_time": "2024-11-14T16:34:21.408833Z",
     "start_time": "2024-11-14T16:34:21.400071Z"
    }
   },
   "source": [
    "X_train = data_train[:, 0]\n",
    "y_train = data_train[:, 1]\n",
    "X_test = data_test[:, 0]\n",
    "y_test = data_test[:, 1]\n",
    "print(X_train, y_train)\n",
    "print(X_test, y_test)"
   ],
   "outputs": [
    {
     "name": "stdout",
     "output_type": "stream",
     "text": [
      "[-0.2  -0.14 -0.08 -0.02  0.04  0.1   0.16  0.22  0.28  0.34  0.4   0.46\n",
      "  0.52  0.58  0.64  0.7   0.76  0.82  0.88  0.94  1.  ] [4.10083261 4.75632474 4.16278839 4.94568077 4.9964461  3.67344585\n",
      " 4.07405522 4.12650853 5.25101279 5.69160283 5.06788376 6.07176274\n",
      " 5.76661215 5.76998646 5.39647832 5.46744837 5.46450349 7.23168494\n",
      " 6.09781368 7.0778812  7.05182585]\n",
      "[-0.3  -0.23 -0.16 -0.09 -0.02  0.05  0.12  0.19  0.26  0.33  0.4   0.47\n",
      "  0.54  0.61  0.68  0.75  0.82  0.89  0.96  1.03  1.1 ] [4.22468198 3.6806801  4.86193723 4.12182311 3.89129282 4.77528678\n",
      " 4.84650657 3.29232057 3.77839618 4.16851703 5.43651587 4.74066998\n",
      " 5.45091177 5.23766541 5.84027585 5.79299791 7.12448917 6.11752856\n",
      " 6.00190132 7.26882794 7.48272721]\n"
     ]
    }
   ],
   "execution_count": 252
  },
  {
   "cell_type": "markdown",
   "metadata": {},
   "source": [
    "Найдите с помощью функции ``get_weight`` линейную функцию ($y = kx + b$), наилучшим образом приближающую неизвестную зависимость.  \n",
    "Выведите значения весовых коэффициентов."
   ]
  },
  {
   "cell_type": "code",
   "metadata": {
    "ExecuteTime": {
     "end_time": "2024-11-14T16:34:21.450557Z",
     "start_time": "2024-11-14T16:34:21.443004Z"
    }
   },
   "source": [
    "weights = get_weight(X_train, y_train)\n",
    "print(\"weights\", weights)"
   ],
   "outputs": [
    {
     "name": "stdout",
     "output_type": "stream",
     "text": [
      "weights [4.43323091 2.2791345 ]\n"
     ]
    }
   ],
   "execution_count": 253
  },
  {
   "cell_type": "markdown",
   "metadata": {},
   "source": [
    "Нарисуйте на плоскости точки обучающей и тестовой выборок (раскрасив в два цвета) $(x_i, y_i)$ и полученную линейную функцию."
   ]
  },
  {
   "cell_type": "code",
   "metadata": {
    "ExecuteTime": {
     "end_time": "2024-11-14T16:34:21.789842Z",
     "start_time": "2024-11-14T16:34:21.504854Z"
    }
   },
   "source": [
    "plt.scatter(X_train, y_train, color=\"blue\", label=\"data train\")\n",
    "plt.scatter(X_test, y_test, color=\"red\", label=\"data test\")\n",
    "y_test_predict = get_prediction(X_test)\n",
    "plt.plot(X_test, y_test_predict, color=\"green\", label=\"train prediction\")\n",
    "plt.legend()\n",
    "plt.show()"
   ],
   "outputs": [
    {
     "data": {
      "text/plain": [
       "<Figure size 640x480 with 1 Axes>"
      ],
      "image/png": "[encoded data removed]"
     },
     "metadata": {},
     "output_type": "display_data"
    }
   ],
   "execution_count": 254
  },
  {
   "cell_type": "markdown",
   "metadata": {},
   "source": [
    "Найдите значения функционалов ошибки $MSE$, $RMSE$, $R^2$. Сравните их со значениями библиотечных функций `scikit-learn`."
   ]
  },
  {
   "cell_type": "code",
   "metadata": {
    "ExecuteTime": {
     "end_time": "2024-11-14T16:34:21.835595Z",
     "start_time": "2024-11-14T16:34:21.822615Z"
    }
   },
   "source": [
    "show_errors_diffs(y_test, y_test_predict)\n",
    "\n",
    "y_train_predict = get_prediction(X_train)\n",
    "print(\"errors values for train data\")\n",
    "show_errors_diffs(y_train, y_train_predict)"
   ],
   "outputs": [
    {
     "name": "stdout",
     "output_type": "stream",
     "text": [
      "MSE: 0.4351202004048882, MSE(sklearn) 0.4351202004048882\n",
      "R2: 0.6848801332179667, R2 (sklearn) 0.6848801332179667\n",
      "errors values for train data\n",
      "MSE: 0.2968966332625196, MSE(sklearn) 0.2968966332625196\n",
      "R2: 0.6978349896117897, R2 (sklearn) 0.6978349896117897\n"
     ]
    }
   ],
   "execution_count": 255
  }
 ],
 "metadata": {
  "kernelspec": {
   "display_name": "Python 3 (ipykernel)",
   "language": "python",
   "name": "python3"
  },
  "language_info": {
   "codemirror_mode": {
    "name": "ipython",
    "version": 3
   },
   "file_extension": ".py",
   "mimetype": "text/x-python",
   "name": "python",
   "nbconvert_exporter": "python",
   "pygments_lexer": "ipython3",
   "version": "3.9.12"
  }
 },
 "nbformat": 4,
 "nbformat_minor": 4
}
